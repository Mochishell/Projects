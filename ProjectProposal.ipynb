{
 "cells": [
  {
   "cell_type": "markdown",
   "metadata": {},
   "source": [
    "# COGS 108 - Project Proposal"
   ]
  },
  {
   "cell_type": "markdown",
   "metadata": {},
   "source": [
    "## Important\n",
    "\n",
    "- Make sure all group members (3-6 people) are listed in the group members section.\n",
    "- ONE, and only one, member of your group should upload this notebook to TritonED. \n",
    "- Each member of the group will receive the same grade on this assignment. \n",
    "- Keep the file name the same: submit the file 'ProjectProposal.ipynb'"
   ]
  },
  {
   "cell_type": "markdown",
   "metadata": {},
   "source": [
    "## Overview"
   ]
  },
  {
   "cell_type": "markdown",
   "metadata": {},
   "source": [
    "Read the project description and detailed instructions for this assignment in the 'ProjectOutline' document."
   ]
  },
  {
   "cell_type": "markdown",
   "metadata": {},
   "source": [
    "## Group Members: Fill in the Student IDs of each group member here\n",
    "\n",
    "Replace the lines below to list each persons full student ID. Add lines as needed for your group size, and make sure each ID is listed on a separate line. \n",
    "\n",
    "- A13535218\n",
    "- A13688564\n",
    "- A14117221\n",
    "- A14269031"
   ]
  },
  {
   "cell_type": "markdown",
   "metadata": {},
   "source": [
    "### Research Question\n",
    "\n",
    "What is your research question? (1-2 sentences)"
   ]
  },
  {
   "cell_type": "markdown",
   "metadata": {},
   "source": [
    "Do people living in certain parts of the United States have a higher chance of obtaining Hepatitis A? "
   ]
  },
  {
   "cell_type": "markdown",
   "metadata": {},
   "source": [
    "### Hypothesis\n",
    "\n",
    "What is your main hypothesis and predictions? (2-3 sentences)"
   ]
  },
  {
   "cell_type": "markdown",
   "metadata": {},
   "source": [
    "We hypothesize that places in the US that are less developed, regulated, or have lower sanitary conditions are correlated to numbers of outbreaks of Hepatitis A. This is because of how Hepatitis A can spread rapidly through unsanitized food and water, as well as through rampant drug use."
   ]
  },
  {
   "cell_type": "markdown",
   "metadata": {},
   "source": [
    "### Dataset(s)\n",
    "\n",
    "What data will you use to answer your question? Describe the dataset(s) in terms of number of observations, what kind of features it contains, etc. You must use at least one dataset containing at least approximately 1000 observations (if your data are smaller but you feel they are sufficient, email Prof. Voytek). You are welcome (and in fact recommended) to find multiple datasets! If you do so, describe each one, and briefly explain how you will combine them together. "
   ]
  },
  {
   "cell_type": "markdown",
   "metadata": {},
   "source": [
    "*Fill in your dataset information here*\n",
    "\n",
    "(Copy this information for each dataset)\n",
    "- Dataset Name: Project Tycho: Contagious Diseases \n",
    "- Link to the dataset: https://www.kaggle.com/pitt/contagious-diseases\n",
    "- Number of observations: \n",
    "\n",
    "1-2 sentences describing the dataset. \n",
    "\n",
    "This Dataset contains data on the number of cases for a disease on a weekly basis, by states.  It includes hepatitis, measles, mumps, etc. but we will only be focusing on Hepatitis A so that the scope of the project will not be too big.\n",
    "\n",
    "If you plan to use multiple datasets, add 1-2 sentences about how you plan to combine these datasets."
   ]
  },
  {
   "cell_type": "markdown",
   "metadata": {},
   "source": [
    "### Background and Prior Work\n",
    "\n",
    "Why is this question of interest, what background information led you to your hypothesis, and why is this important?\n",
    "\n",
    "Find some relevant prior work, and reference those sources. Even if you think you have a totally novel question, find the most similar prior work that you can and discuss how it relates to your project. \n",
    "\n",
    "References can be research publications, but they need not be. Blogs, github repositories, company websites, etc., are all viable references if they are relevant to your project.\n",
    "\n",
    "(2-3 paragraphs, including at least 2 references)"
   ]
  },
  {
   "cell_type": "markdown",
   "metadata": {},
   "source": [
    "*Fill in your background and prior work here* \n",
    "\n",
    "We believe that linking areas with low sanitary conditions and infrastructure/funding, to higher hepatitis A outbreak will raise support/ increase awareness to these areas. Drug usage has also shown to correlate to higher rates of Hepatitis A.  As humans, we need to eat and drink, and knowing that Hepatitis A can spread through environmental conditions led us to believe that areas that aren’t as strictly regulated will indeed have higher outbreaks of Hepatitis A.  By correlating drug usage and Hepatitis A, we can support the idea of higher drug regulation in order to reduce potential outbreaks. \n",
    "\n",
    "Research done by WHO(World Health Organization) has given us an idea of the symptoms caused by Hepatitis A and the possible causes that could lead up to it. With that in mind, this information can help us narrow down possible reasons as to why certain regions/states in the U.S are more likely to be affected by this disease. In addition to knowing the specifics of Hepatitis A, NNDSS(National Notifiable Disease Surveillance System) have compiled a history of Hepatitis A cases that have occurred throughout the years. This dataset will hopefully help us find a correlation with current occurrences of Hepatitis A in the U.S. \n",
    "\n",
    "References (include links):\n",
    "- 1) https://www.who.int/features/qa/76/en/  (General Information on Hepatitis)\n",
    "- 2) https://www.who.int/news-room/fact-sheets/detail/hepatitis-a (Environmental Factors)"
   ]
  },
  {
   "cell_type": "markdown",
   "metadata": {},
   "source": [
    "### Proposed Methods\n",
    "\n",
    "What methods will you use to analyze your data?\n",
    "\n",
    "- How 'clean' is the data? To the extent that it requires cleaning, how will you do so?\n",
    "- How will you analyze the data? Be as specific as you can. Briefly mention any pre-processing steps that are required for your methods (for example, checking data distributions and performing any transformations that may be required). Include a brief outline of how you will apply your chosen method(s). \n",
    "- What do you plan to report? Briefly mention any key visualizations you plan to create, and/or the kind of results you will be able to report that address your question (this could be, for example, the outcome of some statistical test(s), prediction error on a model, a model fit parameter, etc.).\n",
    "- Include a list of packages you expect to use for you project. If you plan to use packages we have not used in class, add a very brief description about them (a few words is sufficient). "
   ]
  },
  {
   "cell_type": "markdown",
   "metadata": {},
   "source": [
    "*Fill in your proposed methods information here:*\n",
    "\n",
    "*Data Cleaning (2-3 sentences)*\n",
    "\n",
    "The data is already relatively clean, as it came from a national source, which will have likely already cleaned out most of the void entries. Cleaning the data will consist of dropping columns that are not relevant to our research and rows that do not have appropriate data filled out. This will ensure that our data analysis can be performed smoothly.\n",
    "\n",
    "*Data Analysis (1-2 paragraphs)*\n",
    "\n",
    "We will be comparing the amount of Hepatitis cases reported each week and observe which states are most likely to be affected. First, we will visualize the data using pandas package to see if there’s any recognizable pattern. Then will we do statistical analysis on the cleaned dataset using numpy package to see if our hypothesis and prediction are possibly correct.  Finally, we will use pandas (or possibly other packages to show our results.\n",
    "\n",
    "*What to report (2-3 sentences)*\n",
    "\n",
    "We will likely report our findings in the form of direct correlations as well as histograms detailing states vs outbreaks. Additionally, we can report the amount of outbreaks sectioned off by parts of the US (north, south, east, west), rather than individually, so that it may be easier to see trends in the data, rather than if we visualized the states separately. \n",
    "\n",
    "Packages we plan to use:\n",
    "- pandas\n",
    "- numpy"
   ]
  },
  {
   "cell_type": "markdown",
   "metadata": {},
   "source": [
    "### Ethics and Privacy\n",
    "\n",
    "Briefly acknowledge and address any potential issues of ethics and privacy for the proposed project. In particular:\n",
    "- Do you have permission to use this data, for this purpose?\n",
    "- Are there privacy concerns regarding your datasets that you need to deal with, and/or terms of use that you need to comply with?\n",
    "- Are there potential biases in your dataset(s), in terms of who it composes, and how it was collected, that may be problematic in terms of it allowing for equitable analysis? (For example, does your data exclude particular populations, or is it likely to reflect particular human biases in a way that could be a problem?) \n",
    "- Are there any other issues related to your topic area, data, and/or analyses that are potentially problematic in terms of data privacy and equitable impact?\n",
    "- How will you handle any issues you identify?\n",
    "\n",
    "(1-2 paragraphs)\n",
    "\n",
    "From Kaggle, our data is obtained from the National Notifiable Disease Surveillance System Reports. The data is relatively secure on its own. However, we need to be sure that no personal data is exposed in the form of full names, addresses, phone numbers, etc. Some biases could be from the fact that some of our data range from 1916-2010, meaning that sanitary conditions have improved significantly since then, as a result, the data may not be as reflective of current conditions in specific area. This also means that the economy and infrastructure of an area in the data set could have changed drastically since 1916, again leading to the idea that the data may not be reflective of current conditions."
   ]
  },
  {
   "cell_type": "markdown",
   "metadata": {},
   "source": [
    "### Discussion\n",
    "\n",
    "Discuss your project, looking forward to what your results might mean, how they fit it in with what is already known, and what problems you may encounter. \n",
    "\n",
    "In particular:\n",
    "- If your analyses and hypotheses are correct, what will be the contribution of this project to the topic domain? \n",
    "- Alternatively, what will you do if you methods don't work and/or your hypotheses are wrong? \n",
    "- What are the potential pitfalls and potential confounds of your data and/or methods that may cause problems, and/or influence your interpretations?\n",
    "\n",
    "(2-3 paragraphs)"
   ]
  },
  {
   "cell_type": "markdown",
   "metadata": {},
   "source": [
    "*Fill in your discussion information here*\n",
    "\n",
    "Studying the data would give us a better insight of future cases that could occur in potential states. If our analyses align our hypothesis, hopefully this will convince the state(s) to be more aware of hepatitis cases, and concentrate their efforts to help reduces cases.  If our methods of data visualization and analysis don’t work, we could try using different datasets. We could also see what exactly went wrong with our current methods to correct them. If our hypothesis is wrong, we can analyze the reasons why, which could be problems with either our data, our data analysis, or even our methods of cleaning the data, which could have led to skewed results. Depending on how much time we have, we could even do a new project with the same dataset that uses the results from this project to make more conclusions.\n",
    "\n",
    "Potential problems that could lead to errors during our study would most likely occur with the data itself. Because our dataset ranges from the years 1916 to 2010, our results may not align with the current conditions of Hepatitis A cases seen today. Another possible pitfall would be the massive outbreak of Hepatitis A cases that occurred in 2017(according to CDC), which could potentially affect our results. Lastly, the potential of a new problem that we wouldn’t consider(ex. New outbreak because of stress/medication/vaccines/contact with animals) could also affect the dataset. "
   ]
  }
 ],
 "metadata": {
  "kernelspec": {
   "display_name": "Python 3",
   "language": "python",
   "name": "python3"
  },
  "language_info": {
   "codemirror_mode": {
    "name": "ipython",
    "version": 3
   },
   "file_extension": ".py",
   "mimetype": "text/x-python",
   "name": "python",
   "nbconvert_exporter": "python",
   "pygments_lexer": "ipython3",
   "version": "3.7.1"
  }
 },
 "nbformat": 4,
 "nbformat_minor": 2
}
